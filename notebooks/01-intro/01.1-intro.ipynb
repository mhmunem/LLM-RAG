{
 "cells": [
  {
   "cell_type": "code",
   "execution_count": 2,
   "id": "7537b63f",
   "metadata": {},
   "outputs": [],
   "source": [
    "import os\n",
    "from dotenv import load_dotenv\n",
    "import openai\n",
    "\n"
   ]
  },
  {
   "cell_type": "code",
   "execution_count": 3,
   "id": "5e76a294",
   "metadata": {},
   "outputs": [],
   "source": [
    "load_dotenv()\n",
    "base_url = os.environ.get('BASE_URL')\n",
    "api_key =  os.environ.get('API_KEY')"
   ]
  },
  {
   "cell_type": "code",
   "execution_count": 4,
   "id": "540284f7",
   "metadata": {},
   "outputs": [],
   "source": [
    "from openai import OpenAI\n",
    "\n",
    "client = OpenAI(\n",
    "  base_url=base_url,\n",
    "  api_key=api_key,\n",
    ")\n"
   ]
  },
  {
   "cell_type": "code",
   "execution_count": 5,
   "id": "ba35c522",
   "metadata": {},
   "outputs": [
    {
     "name": "stdout",
     "output_type": "stream",
     "text": [
      "That's **one of humanity's oldest and deepest questions**, and there’s no single, universally agreed-upon answer. The \"meaning of life\" depends heavily on your **perspective, beliefs, values, and life experiences**. Here are some of the major ways people have approached this question throughout history and across cultures:\n",
      "\n",
      "1.  **Religious/Spiritual Perspectives:**\n",
      "    *   **Fulfilling a Divine Purpose:** Many religions teach that life's meaning comes from fulfilling a purpose assigned by a higher power (God, gods, the Universe). This might involve worship, living according to sacred texts/teachings, serving others, or attaining spiritual enlightenment/salvation. (e.g., Christianity, Islam, Hinduism, Buddhism, etc.).\n",
      "    *   **Soul Development:** Life is seen as a journey for the soul to learn, grow, overcome challenges, and evolve towards a higher state of being or union with the divine/ultimate reality.\n",
      "\n",
      "2.  **Philosophical Perspectives:**\n",
      "    *   **Existentialism (Meaning is Created, Not Found):** Thinkers like Jean-Paul Sartre and Albert Camus argued there is no inherent, pre-defined meaning given to us by the universe or God. Instead, *we create our own meaning* through the choices we make, the actions we take, the relationships we build, and the projects we commit to. This can be liberating but also daunting (\"existential dread\").\n",
      "    *   **Absurdism (Acknowledging the Void):** Closely linked to Existentialism (Camus), Absurdism accepts the conflict between our human need to find meaning and the universe's apparent silence/indifference. Meaning might come from *rebelliously creating value and purpose despite the inherent absurdity*.\n",
      "    *   **Stoicism & Virtue Ethics:** Meaning and fulfillment come from living a virtuous life – cultivating wisdom, courage, justice, and temperance. It's about focusing on what you can control (your own actions and reactions) and accepting what you cannot.\n",
      "    *   **Utilitarianism:** Meaning comes from **contributing to the greater happiness or well-being of others** and reducing suffering. Maximizing good consequences is paramount.\n",
      "    *   **Humanism:** Meaning arises from **human potential, reason, ethics, compassion, and human flourishing** in *this* life, without reliance on supernatural explanations. It emphasizes science, art, love, justice, and personal growth.\n",
      "\n",
      "3.  **Biological/Scientific Perspectives:**\n",
      "    *   **Survival and Reproduction:** Evolutionarily speaking, the biological \"purpose\" of any organism is to survive long enough to pass its genes to the next generation. Our drives (hunger, thirst, sex, social bonding) largely serve this end.\n",
      "    *   **Finding Purpose Through Biology:** Some neuroscientists suggest our drive to find meaning is itself a biological imperative – a cognitive framework that helps us navigate the world, make decisions, and find motivation. Richard Dawkins might suggest that meaning is something we project onto a universe fundamentally driven by blind evolutionary processes (\"the selfish gene\").\n",
      "\n",
      "4.  **Personal and Subjective Perspectives:**\n",
      "    *   **Love and Connection:** For many, life finds its deepest meaning in **relationships, love (familial, romantic, friendship), community, and belonging.**\n",
      "    *   **Growth and Realization:** Meaning comes from **personal development, learning, mastering skills, achieving goals, reaching our potential, and self-discovery.**\n",
      "    *   **Contribution and Service:** Making a **positive difference** in the lives of others, contributing to society, leaving a legacy, or fighting for a cause gives purpose.\n",
      "    *   **Experience and Joy:** Finding meaning in the **richness of experience itself** – appreciating beauty (art, nature), seeking happiness, exploration, joy, wonder, and simply *living fully*.\n",
      "    *   **Creativity and Expression:** Creating, building, expressing oneself, and bringing new things (ideas, art, inventions) into the world.\n",
      "    *   **Overcoming Challenges:** Finding strength and purpose through adversity and struggle.\n",
      "\n",
      "**In essence:**\n",
      "\n",
      "*   **There is no one-size-fits-all answer.** Meaning is profoundly personal.\n",
      "*   **It's often a journey, not a destination.** Our understanding of meaning can evolve throughout life.\n",
      "*   **It frequently involves connection:** To something larger than ourselves (faith, cause, nature), to others (love, community), and/or to our deepest values (integrity, growth, creativity).\n",
      "*   **It requires reflection & action.** Asking the question is the starting point. The answer often emerges through how we choose to live, whom we connect with, and what we commit to.\n",
      "\n",
      "**So, the best answer might be a question back to you:**  \n",
      "**What gives *your* life meaning? What feels significant, valuable, and worth striving for?** Exploring that is where your personal answer will be found. It's a worthwhile and ongoing exploration!\n"
     ]
    }
   ],
   "source": [
    "completion = client.chat.completions.create(\n",
    "  extra_headers={\n",
    "    \"HTTP-Referer\": \"<YOUR_SITE_URL>\", # Optional. Site URL for rankings on openrouter.ai.\n",
    "    \"X-Title\": \"<YOUR_SITE_NAME>\", # Optional. Site title for rankings on openrouter.ai.\n",
    "  },\n",
    "  extra_body={},\n",
    "  model=\"deepseek/deepseek-r1-0528:free\",\n",
    "  messages=[\n",
    "    {\n",
    "      \"role\": \"user\",\n",
    "      \"content\": \"What is the meaning of life?\"\n",
    "    }\n",
    "  ]\n",
    ")\n",
    "print(completion.choices[0].message.content)"
   ]
  },
  {
   "cell_type": "code",
   "execution_count": 6,
   "id": "cd035671",
   "metadata": {},
   "outputs": [],
   "source": [
    "import requests\n",
    "import json\n",
    "\n",
    "response = requests.post(\n",
    "  url=\"https://openrouter.ai/api/v1/chat/completions\",\n",
    "  headers={\n",
    "    \"Authorization\": f\"Bearer {api_key}\",\n",
    "    \"Content-Type\": \"application/json\",\n",
    "    \"HTTP-Referer\": \"<YOUR_SITE_URL>\", # Optional. Site URL for rankings on openrouter.ai.\n",
    "    \"X-Title\": \"<YOUR_SITE_NAME>\", # Optional. Site title for rankings on openrouter.ai.\n",
    "  },\n",
    "  data=json.dumps({\n",
    "    \"model\": \"deepseek/deepseek-r1-0528:free\",\n",
    "    \"messages\": [\n",
    "      {\n",
    "        \"role\": \"user\",\n",
    "        \"content\": \"What is the meaning of life?\"\n",
    "      }\n",
    "    ],\n",
    "    \n",
    "  })\n",
    ")"
   ]
  },
  {
   "cell_type": "code",
   "execution_count": 7,
   "id": "107471ef",
   "metadata": {},
   "outputs": [
    {
     "name": "stdout",
     "output_type": "stream",
     "text": [
      "That's **one of humanity's oldest and deepest questions**, and there’s no single, universally agreed-upon answer. The \"meaning of life\" depends heavily on your **perspective, beliefs, values, and life experiences**. Here are some of the major ways people have approached this question throughout history and across cultures:\n",
      "\n",
      "1.  **Religious/Spiritual Perspectives:**\n",
      "    *   **Fulfilling a Divine Purpose:** Many religions teach that life's meaning comes from fulfilling a purpose assigned by a higher power (God, gods, the Universe). This might involve worship, living according to sacred texts/teachings, serving others, or attaining spiritual enlightenment/salvation. (e.g., Christianity, Islam, Hinduism, Buddhism, etc.).\n",
      "    *   **Soul Development:** Life is seen as a journey for the soul to learn, grow, overcome challenges, and evolve towards a higher state of being or union with the divine/ultimate reality.\n",
      "\n",
      "2.  **Philosophical Perspectives:**\n",
      "    *   **Existentialism (Meaning is Created, Not Found):** Thinkers like Jean-Paul Sartre and Albert Camus argued there is no inherent, pre-defined meaning given to us by the universe or God. Instead, *we create our own meaning* through the choices we make, the actions we take, the relationships we build, and the projects we commit to. This can be liberating but also daunting (\"existential dread\").\n",
      "    *   **Absurdism (Acknowledging the Void):** Closely linked to Existentialism (Camus), Absurdism accepts the conflict between our human need to find meaning and the universe's apparent silence/indifference. Meaning might come from *rebelliously creating value and purpose despite the inherent absurdity*.\n",
      "    *   **Stoicism & Virtue Ethics:** Meaning and fulfillment come from living a virtuous life – cultivating wisdom, courage, justice, and temperance. It's about focusing on what you can control (your own actions and reactions) and accepting what you cannot.\n",
      "    *   **Utilitarianism:** Meaning comes from **contributing to the greater happiness or well-being of others** and reducing suffering. Maximizing good consequences is paramount.\n",
      "    *   **Humanism:** Meaning arises from **human potential, reason, ethics, compassion, and human flourishing** in *this* life, without reliance on supernatural explanations. It emphasizes science, art, love, justice, and personal growth.\n",
      "\n",
      "3.  **Biological/Scientific Perspectives:**\n",
      "    *   **Survival and Reproduction:** Evolutionarily speaking, the biological \"purpose\" of any organism is to survive long enough to pass its genes to the next generation. Our drives (hunger, thirst, sex, social bonding) largely serve this end.\n",
      "    *   **Finding Purpose Through Biology:** Some neuroscientists suggest our drive to find meaning is itself a biological imperative – a cognitive framework that helps us navigate the world, make decisions, and find motivation. Richard Dawkins might suggest that meaning is something we project onto a universe fundamentally driven by blind evolutionary processes (\"the selfish gene\").\n",
      "\n",
      "4.  **Personal and Subjective Perspectives:**\n",
      "    *   **Love and Connection:** For many, life finds its deepest meaning in **relationships, love (familial, romantic, friendship), community, and belonging.**\n",
      "    *   **Growth and Realization:** Meaning comes from **personal development, learning, mastering skills, achieving goals, reaching our potential, and self-discovery.**\n",
      "    *   **Contribution and Service:** Making a **positive difference** in the lives of others, contributing to society, leaving a legacy, or fighting for a cause gives purpose.\n",
      "    *   **Experience and Joy:** Finding meaning in the **richness of experience itself** – appreciating beauty (art, nature), seeking happiness, exploration, joy, wonder, and simply *living fully*.\n",
      "    *   **Creativity and Expression:** Creating, building, expressing oneself, and bringing new things (ideas, art, inventions) into the world.\n",
      "    *   **Overcoming Challenges:** Finding strength and purpose through adversity and struggle.\n",
      "\n",
      "**In essence:**\n",
      "\n",
      "*   **There is no one-size-fits-all answer.** Meaning is profoundly personal.\n",
      "*   **It's often a journey, not a destination.** Our understanding of meaning can evolve throughout life.\n",
      "*   **It frequently involves connection:** To something larger than ourselves (faith, cause, nature), to others (love, community), and/or to our deepest values (integrity, growth, creativity).\n",
      "*   **It requires reflection & action.** Asking the question is the starting point. The answer often emerges through how we choose to live, whom we connect with, and what we commit to.\n",
      "\n",
      "**So, the best answer might be a question back to you:**  \n",
      "**What gives *your* life meaning? What feels significant, valuable, and worth striving for?** Exploring that is where your personal answer will be found. It's a worthwhile and ongoing exploration!\n"
     ]
    }
   ],
   "source": [
    "print(completion.choices[0].message.content)"
   ]
  },
  {
   "cell_type": "code",
   "execution_count": 8,
   "id": "e18055ed",
   "metadata": {},
   "outputs": [],
   "source": [
    "responce = client.chat.completions.create(\n",
    "    model=\"deepseek/deepseek-chat-v3-0324:free\",\n",
    "    messages=[{\n",
    "        \"role\":\"user\",\n",
    "        \"content\": \"Is it too late to join the course?\"\n",
    "        }\n",
    "    ]\n",
    "\n",
    ")"
   ]
  },
  {
   "cell_type": "code",
   "execution_count": 9,
   "id": "558329b7",
   "metadata": {},
   "outputs": [
    {
     "name": "stdout",
     "output_type": "stream",
     "text": [
      "ChatCompletion(id='gen-1755570527-DvG9jAqBuHBtlHPbAg4m', choices=[Choice(finish_reason='stop', index=0, logprobs=None, message=ChatCompletionMessage(content=\"Whether it's too late to join a course depends on the specific program's policies. Here’s how to check:  \\n\\n1. **Course Deadlines** – Many courses allow enrollment until a certain date or until seats are filled. Check the course website or contact the provider for deadlines.  \\n2. **Self-Paced vs. Scheduled** – If the course is self-paced (e.g., on platforms like Coursera or Udemy), you can usually join anytime. For cohort-based courses, check if a new session is starting soon.  \\n3. **Late Enrollment** – Some programs permit late joiners with access to recorded materials, though live sessions may be missed.  \\n4. **Institution/Instructor Flexibility** – Reach out to the instructor or admissions team—they might accommodate you.  \\n\\nIf you provide the course name or institution, I can help look up specifics!\", refusal=None, role='assistant', annotations=None, audio=None, function_call=None, tool_calls=None, reasoning=None), native_finish_reason='stop')], created=1755570527, model='deepseek/deepseek-chat-v3-0324:free', object='chat.completion', service_tier=None, system_fingerprint=None, usage=CompletionUsage(completion_tokens=180, prompt_tokens=14, total_tokens=194, completion_tokens_details=None, prompt_tokens_details=None), provider='Chutes')\n"
     ]
    }
   ],
   "source": [
    "print(responce)"
   ]
  },
  {
   "cell_type": "code",
   "execution_count": 10,
   "id": "6f369f43",
   "metadata": {},
   "outputs": [
    {
     "data": {
      "text/plain": [
       "\"Whether it's too late to join a course depends on the specific program's policies. Here’s how to check:  \\n\\n1. **Course Deadlines** – Many courses allow enrollment until a certain date or until seats are filled. Check the course website or contact the provider for deadlines.  \\n2. **Self-Paced vs. Scheduled** – If the course is self-paced (e.g., on platforms like Coursera or Udemy), you can usually join anytime. For cohort-based courses, check if a new session is starting soon.  \\n3. **Late Enrollment** – Some programs permit late joiners with access to recorded materials, though live sessions may be missed.  \\n4. **Institution/Instructor Flexibility** – Reach out to the instructor or admissions team—they might accommodate you.  \\n\\nIf you provide the course name or institution, I can help look up specifics!\""
      ]
     },
     "execution_count": 10,
     "metadata": {},
     "output_type": "execute_result"
    }
   ],
   "source": [
    "responce.choices[0].message.content"
   ]
  },
  {
   "cell_type": "code",
   "execution_count": null,
   "id": "4ead79d9",
   "metadata": {},
   "outputs": [],
   "source": []
  }
 ],
 "metadata": {
  "kernelspec": {
   "display_name": "Python 3",
   "language": "python",
   "name": "python3"
  },
  "language_info": {
   "codemirror_mode": {
    "name": "ipython",
    "version": 3
   },
   "file_extension": ".py",
   "mimetype": "text/x-python",
   "name": "python",
   "nbconvert_exporter": "python",
   "pygments_lexer": "ipython3",
   "version": "3.12.1"
  }
 },
 "nbformat": 4,
 "nbformat_minor": 5
}
