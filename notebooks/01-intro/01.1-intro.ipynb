{
 "cells": [
  {
   "cell_type": "code",
   "execution_count": 3,
   "id": "7537b63f",
   "metadata": {},
   "outputs": [],
   "source": [
    "import os\n",
    "from dotenv import load_dotenv\n",
    "import openai\n",
    "\n"
   ]
  },
  {
   "cell_type": "code",
   "execution_count": 5,
   "id": "5e76a294",
   "metadata": {},
   "outputs": [],
   "source": [
    "load_dotenv()\n",
    "base_url = os.environ.get('BASE_URL')\n",
    "api_key =  os.environ.get('API_KEY')"
   ]
  },
  {
   "cell_type": "code",
   "execution_count": 6,
   "id": "540284f7",
   "metadata": {},
   "outputs": [],
   "source": [
    "from openai import OpenAI\n",
    "\n",
    "client = OpenAI(\n",
    "  base_url=base_url,\n",
    "  api_key=api_key,\n",
    ")\n"
   ]
  },
  {
   "cell_type": "code",
   "execution_count": 7,
   "id": "ba35c522",
   "metadata": {},
   "outputs": [
    {
     "name": "stdout",
     "output_type": "stream",
     "text": [
      "That's one of humanity's oldest and most profound questions! There isn't one single, universally agreed-upon meaning of life. Instead, people find meaning in different places based on their beliefs, experiences, and values. Here are some of the most common perspectives:\n",
      "\n",
      "1.  **Existentialist Perspective (You Create Your Own Meaning):** Life itself has no inherent meaning \"pre-programmed\" by a god, the universe, or any external force. Instead, it is **your responsibility and freedom** to *create* meaning through your choices, actions, commitments, passions, and relationships. Meaning emerges from how you live authentically and engage with the world.\n",
      "2.  **Religious/Spiritual Perspectives:** Purpose originates from a divine source (God, gods, a higher power, cosmic consciousness). This often involves fulfilling a divine plan, achieving spiritual growth or enlightenment, living according to sacred principles, serving others as an expression of devotion, or aiming for an afterlife. Examples:\n",
      "    *   **Theism:** Serving/worshipping God, loving others, participating in creation.\n",
      "    *   **Eastern Philosophies:** Achieving enlightenment (Buddhism), liberation (Moksha in Hinduism), or harmony with the Tao (Daoism).\n",
      "3.  **Societal/Humanist Perspective:** Meaning comes through contributing to the progress, well-being, or continuation of **humanity/society**. Examples:\n",
      "    *   **Humanism:** Advocates for reason, ethics, and human flourishing *in this life*. Meaning is found through progress, promoting well-being, fostering justice, reducing suffering, and advancing knowledge and compassion.\n",
      "    *   **Connection & Legacy:** Building strong relationships (family, friends, community), raising children, leaving a positive impact (\"leaving the world a better place\"), contributing to your community, creating art or knowledge that benefits others.\n",
      "4.  **Biological/Scientific Perspective:** From a purely naturalistic evolution viewpoint, the biological \"meaning\" of life is **survival and reproduction**, allowing genes to pass to the next generation. This is a fundamental drive encoded in living organisms, but humans uniquely seek meaning *beyond* mere propagation.\n",
      "5.  **Hedonistic Perspective (Experience Focused):** Meaning is found in pursuing **pleasure, happiness, fulfillment, and positive experiences**. Avoiding suffering and maximizing well-being and contentment throughout one's life is the central goal.\n",
      "6.  **Intellectual/Academic Perspective:** Meaning lies in the **pursuit of knowledge, understanding, and truth**. Learning about the universe, unraveling mysteries, engaging deeply with ideas, science, art, and philosophy is the highest purpose.\n",
      "7.  **Nihilism:** The view that life *devoid of inherent meaning*. Some see this as bleak (life is pointless and absurd), while others (like **Absurdists** like Albert Camus) argue that recognizing the inherent lack of meaning actually *frees* us to embrace life passionately *despite* its absurdity.\n",
      "\n",
      "**Important Considerations:**\n",
      "\n",
      "*   **Subjectivity:** Meaning is deeply personal. \"What makes *my* life feel meaningful?\" is often more productive than searching for an abstract universal answer.\n",
      "*   **Dynamic:** Meaning can (and often does) change throughout a person's life based on their stage, experiences, and evolving values.\n",
      "*   **Multifaceted:** Your sense of meaning likely comes from a *combination* of these perspectives (e.g., finding joy in family *and* pursuing knowledge *and* helping others).\n",
      "\n",
      "**Instead of asking *what* the meaning *is*, perhaps a better question is: How can I discover or cultivate meaning *in* my life?**\n",
      "\n",
      "This often involves deep self-reflection, exploring your values and passions, connecting deeply with others, contributing to something larger than yourself, seeking growth and learning, and finding appreciation in existence itself.\n",
      "\n",
      "While the \"ultimate\" meaning remains a mystery, finding personal significance in **connection, contribution, growth, experience, and creation** offers many people a profound sense of purpose. What aspects of life feel most meaningful *to you*?\n"
     ]
    }
   ],
   "source": [
    "completion = client.chat.completions.create(\n",
    "  extra_headers={\n",
    "    \"HTTP-Referer\": \"<YOUR_SITE_URL>\", # Optional. Site URL for rankings on openrouter.ai.\n",
    "    \"X-Title\": \"<YOUR_SITE_NAME>\", # Optional. Site title for rankings on openrouter.ai.\n",
    "  },\n",
    "  extra_body={},\n",
    "  model=\"deepseek/deepseek-r1-0528:free\",\n",
    "  messages=[\n",
    "    {\n",
    "      \"role\": \"user\",\n",
    "      \"content\": \"What is the meaning of life?\"\n",
    "    }\n",
    "  ]\n",
    ")\n",
    "print(completion.choices[0].message.content)"
   ]
  },
  {
   "cell_type": "code",
   "execution_count": 8,
   "id": "e18055ed",
   "metadata": {},
   "outputs": [],
   "source": [
    "responce = client.chat.completions.create(\n",
    "    model=\"deepseek/deepseek-chat-v3-0324:free\",\n",
    "    messages=[{\n",
    "        \"role\":\"user\",\n",
    "        \"content\": \"Is it too late to join the course?\"\n",
    "        }\n",
    "    ]\n",
    "\n",
    ")"
   ]
  },
  {
   "cell_type": "code",
   "execution_count": 9,
   "id": "558329b7",
   "metadata": {},
   "outputs": [
    {
     "name": "stdout",
     "output_type": "stream",
     "text": [
      "ChatCompletion(id='gen-1755570527-DvG9jAqBuHBtlHPbAg4m', choices=[Choice(finish_reason='stop', index=0, logprobs=None, message=ChatCompletionMessage(content=\"Whether it's too late to join a course depends on the specific program's policies. Here’s how to check:  \\n\\n1. **Course Deadlines** – Many courses allow enrollment until a certain date or until seats are filled. Check the course website or contact the provider for deadlines.  \\n2. **Self-Paced vs. Scheduled** – If the course is self-paced (e.g., on platforms like Coursera or Udemy), you can usually join anytime. For cohort-based courses, check if a new session is starting soon.  \\n3. **Late Enrollment** – Some programs permit late joiners with access to recorded materials, though live sessions may be missed.  \\n4. **Institution/Instructor Flexibility** – Reach out to the instructor or admissions team—they might accommodate you.  \\n\\nIf you provide the course name or institution, I can help look up specifics!\", refusal=None, role='assistant', annotations=None, audio=None, function_call=None, tool_calls=None, reasoning=None), native_finish_reason='stop')], created=1755570527, model='deepseek/deepseek-chat-v3-0324:free', object='chat.completion', service_tier=None, system_fingerprint=None, usage=CompletionUsage(completion_tokens=180, prompt_tokens=14, total_tokens=194, completion_tokens_details=None, prompt_tokens_details=None), provider='Chutes')\n"
     ]
    }
   ],
   "source": [
    "print(responce)"
   ]
  },
  {
   "cell_type": "code",
   "execution_count": 10,
   "id": "6f369f43",
   "metadata": {},
   "outputs": [
    {
     "data": {
      "text/plain": [
       "\"Whether it's too late to join a course depends on the specific program's policies. Here’s how to check:  \\n\\n1. **Course Deadlines** – Many courses allow enrollment until a certain date or until seats are filled. Check the course website or contact the provider for deadlines.  \\n2. **Self-Paced vs. Scheduled** – If the course is self-paced (e.g., on platforms like Coursera or Udemy), you can usually join anytime. For cohort-based courses, check if a new session is starting soon.  \\n3. **Late Enrollment** – Some programs permit late joiners with access to recorded materials, though live sessions may be missed.  \\n4. **Institution/Instructor Flexibility** – Reach out to the instructor or admissions team—they might accommodate you.  \\n\\nIf you provide the course name or institution, I can help look up specifics!\""
      ]
     },
     "execution_count": 10,
     "metadata": {},
     "output_type": "execute_result"
    }
   ],
   "source": [
    "responce.choices[0].message.content"
   ]
  },
  {
   "cell_type": "code",
   "execution_count": null,
   "id": "4ead79d9",
   "metadata": {},
   "outputs": [],
   "source": []
  }
 ],
 "metadata": {
  "kernelspec": {
   "display_name": "Python 3",
   "language": "python",
   "name": "python3"
  },
  "language_info": {
   "codemirror_mode": {
    "name": "ipython",
    "version": 3
   },
   "file_extension": ".py",
   "mimetype": "text/x-python",
   "name": "python",
   "nbconvert_exporter": "python",
   "pygments_lexer": "ipython3",
   "version": "3.12.1"
  }
 },
 "nbformat": 4,
 "nbformat_minor": 5
}
